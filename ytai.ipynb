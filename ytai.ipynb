{
  "nbformat": 4,
  "nbformat_minor": 0,
  "metadata": {
    "colab": {
      "provenance": []
    },
    "kernelspec": {
      "name": "python3",
      "display_name": "Python 3"
    },
    "language_info": {
      "name": "python"
    }
  },
  "cells": [
    {
      "cell_type": "code",
      "execution_count": 34,
      "metadata": {
        "id": "owaJWDON6Ft0"
      },
      "outputs": [],
      "source": [
        "!pip install -q crewai"
      ]
    },
    {
      "cell_type": "code",
      "source": [
        "!pip install -q 'crewai[tools]'"
      ],
      "metadata": {
        "id": "ydvzxrwi6hwf"
      },
      "execution_count": 35,
      "outputs": []
    },
    {
      "cell_type": "code",
      "source": [
        "!pip install python-dotenv"
      ],
      "metadata": {
        "colab": {
          "base_uri": "https://localhost:8080/"
        },
        "id": "MllV2F_t63dD",
        "outputId": "14062f5f-03e2-488f-9416-ff4c410759fe"
      },
      "execution_count": 36,
      "outputs": [
        {
          "output_type": "stream",
          "name": "stdout",
          "text": [
            "Requirement already satisfied: python-dotenv in /usr/local/lib/python3.10/dist-packages (1.0.1)\n"
          ]
        }
      ]
    },
    {
      "cell_type": "code",
      "source": [
        "%load_ext dotenv\n",
        "%dotenv"
      ],
      "metadata": {
        "colab": {
          "base_uri": "https://localhost:8080/"
        },
        "id": "m-SELcPQR9R_",
        "outputId": "28846256-08fd-4bb1-8fc3-0f975aca6c68"
      },
      "execution_count": 43,
      "outputs": [
        {
          "output_type": "stream",
          "name": "stdout",
          "text": [
            "The dotenv extension is already loaded. To reload it, use:\n",
            "  %reload_ext dotenv\n"
          ]
        }
      ]
    },
    {
      "cell_type": "code",
      "source": [
        "%reload_ext dotenv\n"
      ],
      "metadata": {
        "id": "B2t6uLAsSp9v"
      },
      "execution_count": 44,
      "outputs": []
    },
    {
      "source": [
        "!export OPENAI_API_KEY=\"sk-proj-zsDbVNVBtux6j37fc654T3BlbkFJfJMHhNEBkOUZOVmGZerH\""
      ],
      "cell_type": "code",
      "metadata": {
        "id": "UUpujK3URFM_"
      },
      "execution_count": 45,
      "outputs": []
    },
    {
      "cell_type": "code",
      "source": [
        "import os\n",
        "from crewai import Agent, Task, Crew, Process\n",
        "from crewai_tools import SerperDevTool"
      ],
      "metadata": {
        "id": "v6OBLXdN6_7h"
      },
      "execution_count": 46,
      "outputs": []
    },
    {
      "cell_type": "code",
      "source": [
        "\n",
        "search_tool = SerperDevTool"
      ],
      "metadata": {
        "id": "ozyTe37XMJXr"
      },
      "execution_count": 54,
      "outputs": []
    },
    {
      "cell_type": "code",
      "source": [
        "from langchain_openai import ChatOpenAI"
      ],
      "metadata": {
        "id": "9tA8BLm7MQaz"
      },
      "execution_count": 56,
      "outputs": []
    },
    {
      "source": [
        "# Define your agents with roles and goals\n",
        "hunter = Agent(\n",
        "    role=\"Treasure Hunter\",\n",
        "    goal=\"Find the hidden words from the clues\",\n",
        "    backstory=\"You work at Houston Community college for an international group. Your expertise lies on finding hidden word within clues to find the ultimate treasure. Happy Hunting!\",\n",
        "    verbose=False,\n",
        "    allow_delegation=False,\n",
        "    tools=[SerperDevTool()],  # Create an instance of the tool and add it to the list\n",
        "    llm=ChatOpenAI(\n",
        "        model_name=\"gpt-4-turbo-preview\",\n",
        "        temperature=0.2,\n",
        "        openai_api_key=\"sk-proj-zsDbVNVBtux6j37fc654T3BlbkFJfJMHhNEBkOUZOVmGZerH\",\n",
        "    ),\n",
        ")"
      ],
      "cell_type": "code",
      "metadata": {
        "id": "BDZmxb-pTZKk"
      },
      "execution_count": 59,
      "outputs": []
    },
    {
      "cell_type": "code",
      "source": [
        "# Define your agents with roles and goals\n",
        "presenter = Agent(\n",
        "    role=\"Presenter of the Treasure\",\n",
        "    goal=\"Retrieve the hints\",\n",
        "    backstory=\"You work at Houston Community college for an international group. Your expertise lies on finding hidden word within clues to find the ultimate treasure. Happy Hunting!\",\n",
        "    verbose=False,\n",
        "    allow_delegation=False,\n",
        "    llm=ChatOpenAI(\n",
        "        model_name=\"gpt-4-turbo-preview\",\n",
        "        temperature=0.3,\n",
        "        openai_api_key=\"sk-proj-zsDbVNVBtux6j37fc654T3BlbkFJfJMHhNEBkOUZOVmGZerH\",\n",
        "    ),\n",
        ")"
      ],
      "metadata": {
        "id": "52fP3gL0ZoFe"
      },
      "execution_count": 60,
      "outputs": []
    },
    {
      "cell_type": "code",
      "source": [
        "#Create tasks for your agents\n",
        "task1= Task(\n",
        "    description= \"\"\n",
        ")"
      ],
      "metadata": {
        "id": "trPHhaPsZwvh"
      },
      "execution_count": null,
      "outputs": []
    }
  ]
}